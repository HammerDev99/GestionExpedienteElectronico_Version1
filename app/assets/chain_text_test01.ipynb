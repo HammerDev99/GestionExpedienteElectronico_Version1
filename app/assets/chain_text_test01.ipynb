{
 "cells": [
  {
   "cell_type": "markdown",
   "metadata": {},
   "source": [
    "# Prueba de manejo con cadenas de textos"
   ]
  },
  {
   "cell_type": "code",
   "execution_count": 1,
   "metadata": {},
   "outputs": [
    {
     "data": {
      "text/plain": [
       "['01. Constancia de recibo correo.pdf',\n",
       " '02. Acta de reparto.pdf',\n",
       " '04. Tutela Wilson Lenis 17-01-2022.pdf',\n",
       " '05. 23487924378.txt',\n",
       " '06. 2220-31453286-20211220110343.pdf',\n",
       " '07. CamScanner 12-03-2021 12.14.pdf',\n",
       " '08. certificadoAfiliacion_6807846.pdf',\n",
       " '09. IMG_20211215_122823.pdf',\n",
       " '10. IMG-20211021-WA0015 (1).pdf',\n",
       " '11. IMG-20211021-WA0015.pdf',\n",
       " '12. IMG-20211021-WA0016.pdf',\n",
       " '13. IMG-20211021-WA0017.pdf',\n",
       " '14. IMG-20211021-WA0018.pdf',\n",
       " '15. IMG-20211021-WA0019.pdf',\n",
       " '16. IMG-20211029-WA0002.pdf',\n",
       " '17. IMG-20211029-WA0003.pdf',\n",
       " '18. 004-2022-00023 AMDITE TUTELA -MÍNIMO VITAL.pdf',\n",
       " '18.1 constancia remite admision Correo_ Juzgado 04 Civil Municipal - Antioquia - Bello - Outlook.pdf',\n",
       " '19. Respuesta.pdf',\n",
       " '20. Respuesta.pdf',\n",
       " '21. CONSTANCIA SECRETARIAL (1).pdf',\n",
       " '22. SENTENCIA -niega derecho.pdf',\n",
       " '22.1 constancia remite fallo.pdf',\n",
       " '23. IMPUGNACION.pdf',\n",
       " '24. Respuesta.pdf',\n",
       " '25. CONSTANCIA REMITE APELACION.pdf',\n",
       " '26. 1238234923.txt',\n",
       " '27 archivoSinExtension',\n",
       " 'PruebaSinConsecutivo.docx']"
      ]
     },
     "execution_count": 1,
     "metadata": {},
     "output_type": "execute_result"
    }
   ],
   "source": [
    "# Crea lista de cadenas\n",
    "\n",
    "lista_cadenas = ['01. Constancia de recibo correo.pdf', '02. Acta de reparto.pdf', '04. Tutela Wilson Lenis 17-01-2022.pdf', '05. 23487924378.txt', '06. 2220-31453286-20211220110343.pdf', '07. CamScanner 12-03-2021 12.14.pdf', '08. certificadoAfiliacion_6807846.pdf', '09. IMG_20211215_122823.pdf', '10. IMG-20211021-WA0015 (1).pdf', '11. IMG-20211021-WA0015.pdf', '12. IMG-20211021-WA0016.pdf', '13. IMG-20211021-WA0017.pdf', '14. IMG-20211021-WA0018.pdf', '15. IMG-20211021-WA0019.pdf', '16. IMG-20211029-WA0002.pdf', '17. IMG-20211029-WA0003.pdf', '18. 004-2022-00023 AMDITE TUTELA -MÍNIMO VITAL.pdf', '18.1 constancia remite admision Correo_ Juzgado 04 Civil Municipal - Antioquia - Bello - Outlook.pdf', '19. Respuesta.pdf', '20. Respuesta.pdf', '21. CONSTANCIA SECRETARIAL (1).pdf', '22. SENTENCIA -niega derecho.pdf', '22.1 constancia remite fallo.pdf', '23. IMPUGNACION.pdf', '24. Respuesta.pdf', '25. CONSTANCIA REMITE APELACION.pdf', '26. 1238234923.txt', '27 archivoSinExtension', 'PruebaSinConsecutivo.docx']\n",
    "lista_cadenas"
   ]
  },
  {
   "cell_type": "code",
   "execution_count": 2,
   "metadata": {},
   "outputs": [],
   "source": [
    "import os"
   ]
  },
  {
   "cell_type": "code",
   "execution_count": 3,
   "metadata": {},
   "outputs": [
    {
     "name": "stdout",
     "output_type": "stream",
     "text": [
      "['01. Constancia De Recibo Correo', '02. Acta De Reparto', '04. Tutela Wilson Lenis 17-01-2022', '05. 23487924378', '06. 2220-31453286-20211220110343', '07. Camscanner 12-03-2021 12.14', '08. Certificadoafiliacion_6807846', '09. Img_20211215_122823', '10. Img-20211021-Wa0015 (1)', '11. Img-20211021-Wa0015', '12. Img-20211021-Wa0016', '13. Img-20211021-Wa0017', '14. Img-20211021-Wa0018', '15. Img-20211021-Wa0019', '16. Img-20211029-Wa0002', '17. Img-20211029-Wa0003', '18. 004-2022-00023 Amdite Tutela -Mínimo Vital', '18.1 Constancia Remite Admision Correo_ Juzgado 04 Civil Municipal - Antioquia - Bello - Outlook', '19. Respuesta', '20. Respuesta', '21. Constancia Secretarial (1)', '22. Sentencia -Niega Derecho', '22.1 Constancia Remite Fallo', '23. Impugnacion', '24. Respuesta', '25. Constancia Remite Apelacion', '26. 1238234923', '27 Archivosinextension', 'Pruebasinconsecutivo']\n",
      "['.pdf', '.pdf', '.pdf', '.txt', '.pdf', '.pdf', '.pdf', '.pdf', '.pdf', '.pdf', '.pdf', '.pdf', '.pdf', '.pdf', '.pdf', '.pdf', '.pdf', '.pdf', '.pdf', '.pdf', '.pdf', '.pdf', '.pdf', '.pdf', '.pdf', '.pdf', '.txt', '', '.docx']\n"
     ]
    }
   ],
   "source": [
    "# Separa en dos listas el nombre del archivo y la extensión\n",
    "\n",
    "nombres = []\n",
    "extension = []\n",
    "for x in lista_cadenas:\n",
    "    nombres.append(os.path.splitext(x)[0])\n",
    "    extension.append(os.path.splitext(x)[1])\n",
    "nombres = [i.title() for i in nombres]\n",
    "print(nombres)\n",
    "print(extension)"
   ]
  },
  {
   "cell_type": "markdown",
   "metadata": {},
   "source": [
    "## Pendientes de revisar ⬇"
   ]
  },
  {
   "cell_type": "code",
   "execution_count": null,
   "metadata": {},
   "outputs": [],
   "source": [
    "# Elimina caracteres especiales de los nombres y limita la cantidad de caracteres\n",
    "\n",
    "\"\"\" FALTA\n",
    "Realizar una busqueda en la cadena de caracteres donde evalúe la ubicación del primer caracter Alfabético\n",
    "Lo anterior en aras de facilitar el ordenamiento de los archivos eliminando o reemplazando los primeros\n",
    "caracteres en caso de ser numericos; en caso de que no encuentre caracteres alfabéticos, deberá agregar un caracter alfabetico \n",
    "en la primera posición separando así el consecutivo de la parte numérica ej: \"05A23487924378\"\n",
    "\n",
    "\"\"\"\n",
    "import re\n",
    "\n",
    "for i in nombres:\n",
    "    \n",
    "    pass\n",
    "\n",
    "caracteres = 36 # Debera permitir elegir la cantidad de caracteres del nombre del archivo segun parametro que indica el length del consecutivo\n",
    "\n",
    "nombresa = [re.sub('[^0-9a-zA-Z]+', '', x)for x in nombres]##selecciona solo letras en minusculas y mayusculas\n",
    "nombresc = []\n",
    "for z in nombresa:\n",
    "    nombresc.append(z[0:caracteres])\n",
    "print(nombresc)"
   ]
  },
  {
   "cell_type": "code",
   "execution_count": null,
   "metadata": {},
   "outputs": [],
   "source": [
    "for i in range(len(nombresc)):\n",
    "    if nombresc[i] == \"\":\n",
    "        nombresc[i] = (\"DocumentoElectronico\")\n",
    "\n",
    "print(nombresc)"
   ]
  },
  {
   "cell_type": "code",
   "execution_count": null,
   "metadata": {},
   "outputs": [],
   "source": [
    "numeracion = [f\"{x:03}\"for x in range(1,len(nombresc)+1)]\n",
    "print(numeracion)"
   ]
  },
  {
   "cell_type": "code",
   "execution_count": null,
   "metadata": {},
   "outputs": [],
   "source": [
    "concat = list(map(''.join, zip(numeracion,nombresc)))\n",
    "concat2 = list(map(''.join, zip(concat,extension)))\n",
    "print (concat2)"
   ]
  },
  {
   "cell_type": "code",
   "execution_count": null,
   "metadata": {},
   "outputs": [],
   "source": [
    "if not(nombres[x].isalnum()) or len(nombres[x])>40:\n",
    "    nombres[x] = string.capwords(nombres[x])\n",
    "    result = re.sub('[^a-zA-Z0-9]+', '', nombres[x])\n",
    "    nombres[x] = result\n",
    "    ban=True\n",
    "else:\n",
    "    # Entran los archivos sin extensión\n",
    "    #print(\"entró: \",nombres[x])\n",
    "    pass"
   ]
  },
  {
   "cell_type": "code",
   "execution_count": null,
   "metadata": {},
   "outputs": [],
   "source": [
    "for caracter in nombres[x]:\n",
    "    if caracter.isalpha():\n",
    "        nombres[x] = nombres[x][cont:]\n",
    "        break\n",
    "    else:\n",
    "        if caracter.isnumeric():\n",
    "            cont = cont +1\n",
    "            continue\n",
    "nombres[x] = nombres[x][0:36]"
   ]
  },
  {
   "cell_type": "code",
   "execution_count": null,
   "metadata": {},
   "outputs": [],
   "source": [
    "if nombres[x] == \"\":\n",
    "    nombres[x] = (\"DocumentoElectronico\")"
   ]
  },
  {
   "cell_type": "code",
   "execution_count": null,
   "metadata": {},
   "outputs": [],
   "source": [
    "\n",
    "            if nombres[x] == \"\":\n",
    "                nombres[x] = (\"DocumentoElectronico\")\n",
    "            nombres[x] = str(f\"{x+1:03}\")+nombres[x]\n",
    "        nombresExtensiones=[]\n",
    "        for x in range(len(nombres)):\n",
    "            if extensiones[x] != 'Carpeta':\n",
    "                nombresExtensiones.append(str(nombres[x])+str(extensiones[x]))\n",
    "            else:\n",
    "                nombresExtensiones.append(str(nombres[x]))\n",
    "        numeraciones = list(range(len(nombres)+1))\n",
    "        numeraciones.pop(0)\n",
    "        if self.isOrderCorrect(files, nombresExtensiones):\n",
    "            ban = True\n",
    "        return nombresExtensiones, nombres, extensiones, numeraciones, ban"
   ]
  }
 ],
 "metadata": {
  "kernelspec": {
   "display_name": "venv",
   "language": "python",
   "name": "python3"
  },
  "language_info": {
   "codemirror_mode": {
    "name": "ipython",
    "version": 3
   },
   "file_extension": ".py",
   "mimetype": "text/x-python",
   "name": "python",
   "nbconvert_exporter": "python",
   "pygments_lexer": "ipython3",
   "version": "3.9.13 (main, Aug 25 2022, 18:29:29) \n[Clang 12.0.0 ]"
  },
  "orig_nbformat": 4,
  "vscode": {
   "interpreter": {
    "hash": "ac8bbab66ce59c698026e03e0cbe602ee5c5ce0a995f3ecfcb4275e493e4b91c"
   }
  }
 },
 "nbformat": 4,
 "nbformat_minor": 2
}
