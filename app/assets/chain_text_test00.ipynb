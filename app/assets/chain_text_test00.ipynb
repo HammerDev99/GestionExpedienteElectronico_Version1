{
 "cells": [
  {
   "cell_type": "markdown",
   "metadata": {},
   "source": [
    "# Prueba de manejo de cadenas de texto\n",
    "\n",
    "Ruta del expediente:\n",
    "\n",
    "```console\n",
    "C:\\Users\\Daniel\\Downloads\\004-2022-00023 (Pame-SALIÓ) impugnada\n",
    "```"
   ]
  },
  {
   "cell_type": "code",
   "execution_count": 5,
   "metadata": {},
   "outputs": [],
   "source": [
    "import os # Manejo de sistema operativo\n",
    "import re # Regular expresion\n",
    "\n",
    "path = r'C:\\Users\\Daniel\\Downloads\\004-2022-00023 (Pame-SALIÓ) impugnada'"
   ]
  },
  {
   "cell_type": "code",
   "execution_count": 6,
   "metadata": {},
   "outputs": [
    {
     "name": "stdout",
     "output_type": "stream",
     "text": [
      "['01. Constancia de recibo correo.pdf', '02. Acta de reparto.pdf', '04. Tutela Wilson Lenis 17-01-2022.pdf', '05. 23487924378.txt', '06. 2220-31453286-20211220110343.pdf', '07. CamScanner 12-03-2021 12.14.pdf', '08. certificadoAfiliacion_6807846.pdf', '09. IMG_20211215_122823.pdf', '10. IMG-20211021-WA0015 (1).pdf', '11. IMG-20211021-WA0015.pdf', '12. IMG-20211021-WA0016.pdf', '13. IMG-20211021-WA0017.pdf', '14. IMG-20211021-WA0018.pdf', '15. IMG-20211021-WA0019.pdf', '16. IMG-20211029-WA0002.pdf', '17. IMG-20211029-WA0003.pdf', '18. 004-2022-00023 AMDITE TUTELA -MÍNIMO VITAL.pdf', '18.1 constancia remite admision Correo_ Juzgado 04 Civil Municipal - Antioquia - Bello - Outlook.pdf', '19. Respuesta.pdf', '20. Respuesta.pdf', '21. CONSTANCIA SECRETARIAL (1).pdf', '22. SENTENCIA -niega derecho.pdf', '22.1 constancia remite fallo.pdf', '23. IMPUGNACION.pdf', '24. Respuesta.pdf', '25. CONSTANCIA REMITE APELACION.pdf', '26. 1238234923.txt', '27 archivoSinExtension', 'PruebaSinConsecutivo.docx']\n",
      "<class 'list'>\n"
     ]
    }
   ],
   "source": [
    "# Obtiene la lista de archivos del path\n",
    "\n",
    "files = os.listdir(path)\n",
    "print(files)\n",
    "print(type(files))"
   ]
  },
  {
   "cell_type": "markdown",
   "metadata": {},
   "source": [
    "## Código utilizado inicialmente"
   ]
  },
  {
   "cell_type": "code",
   "execution_count": 7,
   "metadata": {},
   "outputs": [
    {
     "name": "stdout",
     "output_type": "stream",
     "text": [
      "['01. Constancia De Recibo Correo', '02. Acta De Reparto', '04. Tutela Wilson Lenis 17-01-2022', '05. 23487924378', '06. 2220-31453286-20211220110343', '07. Camscanner 12-03-2021 12.14', '08. Certificadoafiliacion_6807846', '09. Img_20211215_122823', '10. Img-20211021-Wa0015 (1)', '11. Img-20211021-Wa0015', '12. Img-20211021-Wa0016', '13. Img-20211021-Wa0017', '14. Img-20211021-Wa0018', '15. Img-20211021-Wa0019', '16. Img-20211029-Wa0002', '17. Img-20211029-Wa0003', '18. 004-2022-00023 Amdite Tutela -Mínimo Vital', '18.1 Constancia Remite Admision Correo_ Juzgado 04 Civil Municipal - Antioquia - Bello - Outlook', '19. Respuesta', '20. Respuesta', '21. Constancia Secretarial (1)', '22. Sentencia -Niega Derecho', '22.1 Constancia Remite Fallo', '23. Impugnacion', '24. Respuesta', '25. Constancia Remite Apelacion', '26. 1238234923', '27 Archivosinextension', 'Pruebasinconsecutivo']\n",
      "['.pdf', '.pdf', '.pdf', '.txt', '.pdf', '.pdf', '.pdf', '.pdf', '.pdf', '.pdf', '.pdf', '.pdf', '.pdf', '.pdf', '.pdf', '.pdf', '.pdf', '.pdf', '.pdf', '.pdf', '.pdf', '.pdf', '.pdf', '.pdf', '.pdf', '.pdf', '.txt', '', '.docx']\n"
     ]
    }
   ],
   "source": [
    "# Separa en dos listas el nombre del archivo y la extensión\n",
    "\n",
    "nombres = []\n",
    "extension = []\n",
    "for x in files:\n",
    "    nombres.append(os.path.splitext(x)[0])\n",
    "    extension.append(os.path.splitext(x)[1])\n",
    "nombres = [i.title() for i in nombres] # pone en mayuscula la primera letra\n",
    "print(nombres)\n",
    "print(extension)"
   ]
  },
  {
   "cell_type": "code",
   "execution_count": 8,
   "metadata": {},
   "outputs": [
    {
     "name": "stdout",
     "output_type": "stream",
     "text": [
      "['01ConstanciaDeReciboCorreo', '02ActaDeReparto', '04TutelaWilsonLenis17012022', '0523487924378', '0622203145328620211220110343', '07Camscanner120320211214', '08Certificadoafiliacion6807846', '09Img20211215122823', '10Img20211021Wa00151', '11Img20211021Wa0015', '12Img20211021Wa0016', '13Img20211021Wa0017', '14Img20211021Wa0018', '15Img20211021Wa0019', '16Img20211029Wa0002', '17Img20211029Wa0003', '18004202200023AmditeTutelaMnimoVital', '181ConstanciaRemiteAdmisionCorreoJuz', '19Respuesta', '20Respuesta', '21ConstanciaSecretarial1', '22SentenciaNiegaDerecho', '221ConstanciaRemiteFallo', '23Impugnacion', '24Respuesta', '25ConstanciaRemiteApelacion', '261238234923', '27Archivosinextension', 'Pruebasinconsecutivo']\n"
     ]
    }
   ],
   "source": [
    "# Elimina caracteres especiales de los nombres y limita la cantidad de caracteres\n",
    "\n",
    "\"\"\" FALTA\n",
    "Realizar una busqueda en la cadena de caracteres donde evalúe la ubicación del primer caracter Alfabético. Lo anterior en aras de facilitar el ordenamiento de los archivos eliminando o reemplazando los primeros caracteres en caso de ser numericos; en caso de que no encuentre caracteres alfabéticos, deberá agregar un caracter alfabetico  en la primera posición separando así el consecutivo de la parte numérica ej: \"05A23487924378\"\n",
    "\"\"\"\n",
    "\n",
    "for i in nombres:\n",
    "    \n",
    "    pass\n",
    "\n",
    "caracteres = 36 # Debera permitir elegir la cantidad de caracteres del nombre del archivo segun parametro que indica el length del consecutivo\n",
    "\n",
    "nombresa = [re.sub('[^0-9a-zA-Z]+', '', x)for x in nombres]##selecciona solo letras en minusculas y mayusculas\n",
    "nombresc = []\n",
    "for z in nombresa:\n",
    "    nombresc.append(z[0:caracteres])\n",
    "print(nombresc)"
   ]
  },
  {
   "cell_type": "code",
   "execution_count": 9,
   "metadata": {},
   "outputs": [
    {
     "name": "stdout",
     "output_type": "stream",
     "text": [
      "['01ConstanciaDeReciboCorreo', '02ActaDeReparto', '04TutelaWilsonLenis17012022', '0523487924378', '0622203145328620211220110343', '07Camscanner120320211214', '08Certificadoafiliacion6807846', '09Img20211215122823', '10Img20211021Wa00151', '11Img20211021Wa0015', '12Img20211021Wa0016', '13Img20211021Wa0017', '14Img20211021Wa0018', '15Img20211021Wa0019', '16Img20211029Wa0002', '17Img20211029Wa0003', '18004202200023AmditeTutelaMnimoVital', '181ConstanciaRemiteAdmisionCorreoJuz', '19Respuesta', '20Respuesta', '21ConstanciaSecretarial1', '22SentenciaNiegaDerecho', '221ConstanciaRemiteFallo', '23Impugnacion', '24Respuesta', '25ConstanciaRemiteApelacion', '261238234923', '27Archivosinextension', 'Pruebasinconsecutivo']\n"
     ]
    }
   ],
   "source": [
    "for i in range(len(nombresc)):\n",
    "    if nombresc[i] == \"\":\n",
    "        nombresc[i] = (\"DocumentoElectronico\")\n",
    "\n",
    "print(nombresc)"
   ]
  },
  {
   "cell_type": "code",
   "execution_count": 10,
   "metadata": {},
   "outputs": [
    {
     "name": "stdout",
     "output_type": "stream",
     "text": [
      "['001', '002', '003', '004', '005', '006', '007', '008', '009', '010', '011', '012', '013', '014', '015', '016', '017', '018', '019', '020', '021', '022', '023', '024', '025', '026', '027', '028', '029']\n"
     ]
    }
   ],
   "source": [
    "numeracion = [f\"{x:03}\"for x in range(1,len(nombresc)+1)]\n",
    "print(numeracion)"
   ]
  },
  {
   "cell_type": "code",
   "execution_count": 11,
   "metadata": {},
   "outputs": [
    {
     "name": "stdout",
     "output_type": "stream",
     "text": [
      "['00101ConstanciaDeReciboCorreo.pdf', '00202ActaDeReparto.pdf', '00304TutelaWilsonLenis17012022.pdf', '0040523487924378.txt', '0050622203145328620211220110343.pdf', '00607Camscanner120320211214.pdf', '00708Certificadoafiliacion6807846.pdf', '00809Img20211215122823.pdf', '00910Img20211021Wa00151.pdf', '01011Img20211021Wa0015.pdf', '01112Img20211021Wa0016.pdf', '01213Img20211021Wa0017.pdf', '01314Img20211021Wa0018.pdf', '01415Img20211021Wa0019.pdf', '01516Img20211029Wa0002.pdf', '01617Img20211029Wa0003.pdf', '01718004202200023AmditeTutelaMnimoVital.pdf', '018181ConstanciaRemiteAdmisionCorreoJuz.pdf', '01919Respuesta.pdf', '02020Respuesta.pdf', '02121ConstanciaSecretarial1.pdf', '02222SentenciaNiegaDerecho.pdf', '023221ConstanciaRemiteFallo.pdf', '02423Impugnacion.pdf', '02524Respuesta.pdf', '02625ConstanciaRemiteApelacion.pdf', '027261238234923.txt', '02827Archivosinextension', '029Pruebasinconsecutivo.docx']\n"
     ]
    }
   ],
   "source": [
    "concat = list(map(''.join, zip(numeracion,nombresc)))\n",
    "concat2 = list(map(''.join, zip(concat,extension)))\n",
    "print (concat2)"
   ]
  },
  {
   "cell_type": "markdown",
   "metadata": {},
   "source": [
    "## Prueba de manejo de datos con Json"
   ]
  },
  {
   "cell_type": "code",
   "execution_count": 12,
   "metadata": {},
   "outputs": [],
   "source": [
    "import json # Librería estandar de Json"
   ]
  },
  {
   "cell_type": "code",
   "execution_count": 13,
   "metadata": {},
   "outputs": [
    {
     "name": "stdout",
     "output_type": "stream",
     "text": [
      "[\"01. Constancia de recibo correo.pdf\", \"02. Acta de reparto.pdf\", \"04. Tutela Wilson Lenis 17-01-2022.pdf\", \"05. 23487924378.txt\", \"06. 2220-31453286-20211220110343.pdf\", \"07. CamScanner 12-03-2021 12.14.pdf\", \"08. certificadoAfiliacion_6807846.pdf\", \"09. IMG_20211215_122823.pdf\", \"10. IMG-20211021-WA0015 (1).pdf\", \"11. IMG-20211021-WA0015.pdf\", \"12. IMG-20211021-WA0016.pdf\", \"13. IMG-20211021-WA0017.pdf\", \"14. IMG-20211021-WA0018.pdf\", \"15. IMG-20211021-WA0019.pdf\", \"16. IMG-20211029-WA0002.pdf\", \"17. IMG-20211029-WA0003.pdf\", \"18. 004-2022-00023 AMDITE TUTELA -M\\u00cdNIMO VITAL.pdf\", \"18.1 constancia remite admision Correo_ Juzgado 04 Civil Municipal - Antioquia - Bello - Outlook.pdf\", \"19. Respuesta.pdf\", \"20. Respuesta.pdf\", \"21. CONSTANCIA SECRETARIAL (1).pdf\", \"22. SENTENCIA -niega derecho.pdf\", \"22.1 constancia remite fallo.pdf\", \"23. IMPUGNACION.pdf\", \"24. Respuesta.pdf\", \"25. CONSTANCIA REMITE APELACION.pdf\", \"26. 1238234923.txt\", \"27 archivoSinExtension\", \"PruebaSinConsecutivo.docx\"]\n"
     ]
    }
   ],
   "source": [
    "jsonFiles = json.dumps(files)\n",
    "\n",
    "print(jsonFiles)"
   ]
  },
  {
   "cell_type": "code",
   "execution_count": 15,
   "metadata": {},
   "outputs": [
    {
     "name": "stdout",
     "output_type": "stream",
     "text": [
      "[{\"Nombre Documento\": [\"001\", \"Archivo1\", \"txt\"], \"FechaCreacion\": \"\", \"FechaIncorpora\": \"\", \"Orden\": \"\", \"Paginas\": \"\", \"Formato\": \"\", \"Tamano\": \"\", \"Origen\": \"\", \"Observaciones\": \"\"}, {\"Nombre Documento\": \"Archivo2\", \"FechaCreacion\": \"\", \"FechaIncorpora\": \"\", \"Orden\": \"\", \"Paginas\": \"\", \"Formato\": \"\", \"Tamano\": \"\", \"Origen\": \"\", \"Observaciones\": \"\"}]\n"
     ]
    }
   ],
   "source": [
    "# Ejemplo estructura básica de la solución manejando Diccionario de metadatos\n",
    "\n",
    "files_Dict = [\n",
    "    {\n",
    "    'Nombre Documento' : '',\n",
    "    'FechaCreacion' : '',\n",
    "    'FechaIncorpora' : '',\n",
    "    'Orden' : '',\n",
    "    'Paginas' : '',\n",
    "    'Formato' : '',\n",
    "    'Tamano' : '',\n",
    "    'Origen' : '',\n",
    "    'Observaciones' : ''\n",
    "    },\n",
    "    {\n",
    "    'Nombre Documento' : 'Archivo2',\n",
    "    'FechaCreacion' : '',\n",
    "    'FechaIncorpora' : '',\n",
    "    'Orden' : '',\n",
    "    'Paginas' : '',\n",
    "    'Formato' : '',\n",
    "    'Tamano' : '',\n",
    "    'Origen' : '',\n",
    "    'Observaciones' : ''\n",
    "    }\n",
    "]\n",
    "\n",
    "# Nombre de archivo separado en 3\n",
    "\n",
    "files_Dict[0]['Nombre Documento'] = [\"001\", \"Archivo1\", \"txt\"]\n",
    "\n",
    "jsonFiles = json.dumps(files_Dict)\n",
    "\n",
    "print(jsonFiles)"
   ]
  },
  {
   "cell_type": "code",
   "execution_count": 11,
   "metadata": {},
   "outputs": [
    {
     "ename": "AttributeError",
     "evalue": "type object 'AutomatizacionEmpleado' has no attribute 'AutomatizacionEmpleado'",
     "output_type": "error",
     "traceback": [
      "\u001b[1;31m---------------------------------------------------------------------------\u001b[0m",
      "\u001b[1;31mAttributeError\u001b[0m                            Traceback (most recent call last)",
      "\u001b[1;32mg:\\Mi unidad\\3. Emprendimiento\\Desarrollo de Software\\GestiónExpedienteElectrónico + Python\\GestionExpedienteElectronico_Version1\\owl_system\\prueba_logica_archivos.ipynb Cell 7'\u001b[0m in \u001b[0;36m<cell line: 7>\u001b[1;34m()\u001b[0m\n\u001b[0;32m      <a href='vscode-notebook-cell:/g%3A/Mi%20unidad/3.%20Emprendimiento/Desarrollo%20de%20Software/Gesti%C3%B3nExpedienteElectr%C3%B3nico%20%2B%20Python/GestionExpedienteElectronico_Version1/owl_system/prueba_logica_archivos.ipynb#ch0000006?line=3'>4</a>\u001b[0m objData \u001b[39m=\u001b[39m AutomatizacionData()\n\u001b[0;32m      <a href='vscode-notebook-cell:/g%3A/Mi%20unidad/3.%20Emprendimiento/Desarrollo%20de%20Software/Gesti%C3%B3nExpedienteElectr%C3%B3nico%20%2B%20Python/GestionExpedienteElectronico_Version1/owl_system/prueba_logica_archivos.ipynb#ch0000006?line=5'>6</a>\u001b[0m \u001b[39m# ruta completa a files\u001b[39;00m\n\u001b[1;32m----> <a href='vscode-notebook-cell:/g%3A/Mi%20unidad/3.%20Emprendimiento/Desarrollo%20de%20Software/Gesti%C3%B3nExpedienteElectr%C3%B3nico%20%2B%20Python/GestionExpedienteElectronico_Version1/owl_system/prueba_logica_archivos.ipynb#ch0000006?line=6'>7</a>\u001b[0m path_list \u001b[39m=\u001b[39m objEmpleado\u001b[39m.\u001b[39;49mAutomatizacionEmpleado\u001b[39m.\u001b[39mfullFilePath(objEmpleado(), files, path)\n\u001b[0;32m      <a href='vscode-notebook-cell:/g%3A/Mi%20unidad/3.%20Emprendimiento/Desarrollo%20de%20Software/Gesti%C3%B3nExpedienteElectr%C3%B3nico%20%2B%20Python/GestionExpedienteElectronico_Version1/owl_system/prueba_logica_archivos.ipynb#ch0000006?line=7'>8</a>\u001b[0m \u001b[39m#print(path_list)\u001b[39;00m\n\u001b[0;32m     <a href='vscode-notebook-cell:/g%3A/Mi%20unidad/3.%20Emprendimiento/Desarrollo%20de%20Software/Gesti%C3%B3nExpedienteElectr%C3%B3nico%20%2B%20Python/GestionExpedienteElectronico_Version1/owl_system/prueba_logica_archivos.ipynb#ch0000006?line=9'>10</a>\u001b[0m fechamod, tama, cantidadpag, observaciones \u001b[39m=\u001b[39m objData\u001b[39m.\u001b[39mAutomatizacionData\u001b[39m.\u001b[39mgetMetadata(objData\u001b[39m.\u001b[39mAutomatizacionData, path_list)\n",
      "\u001b[1;31mAttributeError\u001b[0m: type object 'AutomatizacionEmpleado' has no attribute 'AutomatizacionEmpleado'"
     ]
    }
   ],
   "source": [
    "from automatizacionData import AutomatizacionData # as objData\n",
    "from automatizacionEmpleado import AutomatizacionEmpleado as objEmpleado\n",
    "\n",
    "objData = AutomatizacionData()\n",
    "\n",
    "# ruta completa a files\n",
    "path_list = objEmpleado.AutomatizacionEmpleado.fullFilePath(objEmpleado(), files, path)\n",
    "#print(path_list)\n",
    "\n",
    "fechamod, tama, cantidadpag, observaciones = objData.AutomatizacionData.getMetadata(objData.AutomatizacionData, path_list)\n",
    "#print(fechamod, tama, cantidadpag, observaciones)"
   ]
  }
 ],
 "metadata": {
  "kernelspec": {
   "display_name": "venv",
   "language": "python",
   "name": "python3"
  },
  "language_info": {
   "codemirror_mode": {
    "name": "ipython",
    "version": 3
   },
   "file_extension": ".py",
   "mimetype": "text/x-python",
   "name": "python",
   "nbconvert_exporter": "python",
   "pygments_lexer": "ipython3",
   "version": "3.9.13 (main, Aug 25 2022, 18:29:29) \n[Clang 12.0.0 ]"
  },
  "orig_nbformat": 4,
  "vscode": {
   "interpreter": {
    "hash": "ac8bbab66ce59c698026e03e0cbe602ee5c5ce0a995f3ecfcb4275e493e4b91c"
   }
  }
 },
 "nbformat": 4,
 "nbformat_minor": 2
}
