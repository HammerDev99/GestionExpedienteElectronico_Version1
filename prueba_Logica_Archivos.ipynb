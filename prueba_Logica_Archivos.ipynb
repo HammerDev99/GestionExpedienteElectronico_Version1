{
 "cells": [
  {
   "cell_type": "markdown",
   "metadata": {},
   "source": [
    "## **Objetivos a optimizar**\n",
    "\n",
    "Mejorar la lógica del algoritmo que modifica los nombres "
   ]
  },
  {
   "cell_type": "markdown",
   "metadata": {},
   "source": [
    "***\n",
    "#### Iniciamos con las importaciones necesarias"
   ]
  },
  {
   "cell_type": "code",
   "execution_count": 5,
   "metadata": {},
   "outputs": [],
   "source": [
    "import re\n",
    "import os\n",
    "import string"
   ]
  },
  {
   "cell_type": "markdown",
   "metadata": {},
   "source": [
    "***\n",
    "#### Luego obtenemos la ruta que contiene los archivos a procesar"
   ]
  },
  {
   "cell_type": "code",
   "execution_count": 2,
   "metadata": {},
   "outputs": [
    {
     "name": "stdout",
     "output_type": "stream",
     "text": [
      "C:\\Users\\Daniel\\Downloads\\004-2022-00023 (Pame-SALIÓ) impugnada\n",
      "['01. Constancia de recibo correo.pdf', '02. Acta de reparto.pdf', '04. Tutela Wilson Lenis 17-01-2022.pdf', '06. 2220-31453286-20211220110343.pdf', '07. CamScanner 12-03-2021 12.14.pdf', '08. certificadoAfiliacion_6807846.pdf', '09. IMG_20211215_122823.pdf', '10. IMG-20211021-WA0015 (1).pdf', '11. IMG-20211021-WA0015.pdf', '12. IMG-20211021-WA0016.pdf', '13. IMG-20211021-WA0017.pdf', '14. IMG-20211021-WA0018.pdf', '15. IMG-20211021-WA0019.pdf', '16. IMG-20211029-WA0002.pdf', '17. IMG-20211029-WA0003.pdf', '18. 004-2022-00023 AMDITE TUTELA -MÍNIMO VITAL.pdf', '18.1 constancia remite admision Correo_ Juzgado 04 Civil Municipal - Antioquia - Bello - Outlook.pdf', '19. Respuesta.pdf', '20. Respuesta.pdf', '21. CONSTANCIA SECRETARIAL (1).pdf', '22. SENTENCIA -niega derecho.pdf', '22.1 constancia remite fallo.pdf', '23. IMPUGNACION.pdf', '24. Respuesta.pdf', '25. CONSTANCIA REMITE APELACION.pdf']\n"
     ]
    }
   ],
   "source": [
    "ruta = input(\"ingresa la ruta: \")\n",
    "files = os.listdir(ruta)\n",
    "print(ruta)\n",
    "#files = sorted(files, key = lambda x: os.path.getmtime(os.path.join(ruta, x)))\n",
    "print(files)"
   ]
  },
  {
   "cell_type": "markdown",
   "metadata": {},
   "source": [
    "***\n",
    "\n",
    "#### *formatNames()*: \n",
    "\n",
    "Actividades que realiza:\n",
    "\n",
    "1. Separa el nombre y la extension, validando si es carpeta\n",
    "1. Asigna 'Carpeta' en extension del archivo\n",
    "1. Aplica mayuscula a la primera letra de cada palabra\n",
    "1. Elimina caracteres menos a1.zA1.Z01.9\n",
    "1. Elimina los numeros primeros existentes del nombre\n",
    "1. Limita la cantidad de caracteres a 36\n",
    "1. En caso de estar vacio asigna el nombre DocumentoElectronico\n",
    "1. Crea consecutivos\n",
    "1. Agrega consecutivo al comienzo del nombre en el mismo orden de la carpeta\n",
    "1. Valida con isorderCorrect si los archivos estan en orden, en caso negativo ban = true"
   ]
  },
  {
   "cell_type": "code",
   "execution_count": 3,
   "metadata": {},
   "outputs": [
    {
     "name": "stdout",
     "output_type": "stream",
     "text": [
      "['01. Constancia de recibo correo', '02. Acta de reparto', '04. Tutela Wilson Lenis 17-01-2022', '06. 2220-31453286-20211220110343', '07. CamScanner 12-03-2021 12.14', '08. certificadoAfiliacion_6807846', '09. IMG_20211215_122823', '10. IMG-20211021-WA0015 (1)', '11. IMG-20211021-WA0015', '12. IMG-20211021-WA0016', '13. IMG-20211021-WA0017', '14. IMG-20211021-WA0018', '15. IMG-20211021-WA0019', '16. IMG-20211029-WA0002', '17. IMG-20211029-WA0003', '18. 004-2022-00023 AMDITE TUTELA -MÍNIMO VITAL', '18.1 constancia remite admision Correo_ Juzgado 04 Civil Municipal - Antioquia - Bello - Outlook', '19. Respuesta', '20. Respuesta', '21. CONSTANCIA SECRETARIAL (1)', '22. SENTENCIA -niega derecho', '22.1 constancia remite fallo', '23. IMPUGNACION', '24. Respuesta', '25. CONSTANCIA REMITE APELACION'] ['.pdf', '.pdf', '.pdf', '.pdf', '.pdf', '.pdf', '.pdf', '.pdf', '.pdf', '.pdf', '.pdf', '.pdf', '.pdf', '.pdf', '.pdf', '.pdf', '.pdf', '.pdf', '.pdf', '.pdf', '.pdf', '.pdf', '.pdf', '.pdf', '.pdf']\n"
     ]
    }
   ],
   "source": [
    "nombres = []\n",
    "extensiones = []\n",
    "for x in files:\n",
    "    fulldirct = os.path.join(ruta, x)\n",
    "    if os.path.isfile(fulldirct):\n",
    "        nombres.append(os.path.splitext(x)[0])\n",
    "        extensiones.append(os.path.splitext(x)[1])\n",
    "    else: \n",
    "        nombres.append(x)\n",
    "        extensiones.append('Carpeta')\n",
    "\n",
    "print(nombres, extensiones)"
   ]
  },
  {
   "cell_type": "code",
   "execution_count": 6,
   "metadata": {},
   "outputs": [
    {
     "name": "stdout",
     "output_type": "stream",
     "text": [
      "['0001ConstanciaDeReciboCorreo', '0002ActaDeReparto', '0003TutelaWilsonLenis17012022', '00040622203145328620211220110343', '0005Camscanner120320211214', '0006Certificadoafiliacion6807846', '0007Img20211215122823', '0008Img20211021wa00151', '0009Img20211021wa0015', '0010Img20211021wa0016', '0011Img20211021wa0017', '0012Img20211021wa0018', '0013Img20211021wa0019', '0014Img20211029wa0002', '0015Img20211029wa0003', '0016AmditeTutelamnimoVital', '0017ConstanciaRemiteAdmisionCorreoJuzgad', '0018Respuesta', '0019Respuesta', '0020ConstanciaSecretarial1', '0021SentencianiegaDerecho', '0022ConstanciaRemiteFallo', '0023Impugnacion', '0024Respuesta', '0025ConstanciaRemiteApelacion']\n"
     ]
    }
   ],
   "source": [
    "ban = False\n",
    "for x in range(len(nombres)):\n",
    "    if not(nombres[x].isalnum()) or len(nombres[x])>40:\n",
    "        nombres[x] = string.capwords(nombres[x])\n",
    "        result = re.sub('[^a-zA-Z0-9]+', '', nombres[x])\n",
    "        nombres[x] = result\n",
    "        ban=True\n",
    "    cont = 0\n",
    "    for caracter in nombres[x]:\n",
    "        if caracter.isalpha():\n",
    "            nombres[x] = nombres[x][cont:]\n",
    "            break\n",
    "        else:\n",
    "            if caracter.isnumeric():\n",
    "                cont = cont +1\n",
    "                continue\n",
    "    nombres[x] = nombres[x][0:36]\n",
    "    if nombres[x] == \"\":\n",
    "        nombres[x] = (\"DocumentoElectronico\")\n",
    "    nombres[x] = str(f\"{x+1:04}\")+nombres[x]\n",
    "\n",
    "print(nombres)"
   ]
  },
  {
   "cell_type": "code",
   "execution_count": 7,
   "metadata": {},
   "outputs": [],
   "source": [
    "def isOrderCorrect(files, nombresExtensiones):\n",
    "    \"\"\" \n",
    "    @param: files, nombresExtensiones\n",
    "    @return: Bool\n",
    "    - Verifica el orden de los consecutivos de los archivos\n",
    "    \"\"\"\n",
    "\n",
    "    cont = 0\n",
    "    for i in files:\n",
    "        for j in nombresExtensiones:\n",
    "            if i!=j:\n",
    "                cont = cont + 1\n",
    "    if cont!=0:\n",
    "        return True\n",
    "    else:\n",
    "        return False"
   ]
  },
  {
   "cell_type": "code",
   "execution_count": 8,
   "metadata": {},
   "outputs": [
    {
     "name": "stdout",
     "output_type": "stream",
     "text": [
      "['0001ConstanciaDeReciboCorreo.pdf', '0002ActaDeReparto.pdf', '0003TutelaWilsonLenis17012022.pdf', '00040622203145328620211220110343.pdf', '0005Camscanner120320211214.pdf', '0006Certificadoafiliacion6807846.pdf', '0007Img20211215122823.pdf', '0008Img20211021wa00151.pdf', '0009Img20211021wa0015.pdf', '0010Img20211021wa0016.pdf', '0011Img20211021wa0017.pdf', '0012Img20211021wa0018.pdf', '0013Img20211021wa0019.pdf', '0014Img20211029wa0002.pdf', '0015Img20211029wa0003.pdf', '0016AmditeTutelamnimoVital.pdf', '0017ConstanciaRemiteAdmisionCorreoJuzgad.pdf', '0018Respuesta.pdf', '0019Respuesta.pdf', '0020ConstanciaSecretarial1.pdf', '0021SentencianiegaDerecho.pdf', '0022ConstanciaRemiteFallo.pdf', '0023Impugnacion.pdf', '0024Respuesta.pdf', '0025ConstanciaRemiteApelacion.pdf'] ['0001ConstanciaDeReciboCorreo', '0002ActaDeReparto', '0003TutelaWilsonLenis17012022', '00040622203145328620211220110343', '0005Camscanner120320211214', '0006Certificadoafiliacion6807846', '0007Img20211215122823', '0008Img20211021wa00151', '0009Img20211021wa0015', '0010Img20211021wa0016', '0011Img20211021wa0017', '0012Img20211021wa0018', '0013Img20211021wa0019', '0014Img20211029wa0002', '0015Img20211029wa0003', '0016AmditeTutelamnimoVital', '0017ConstanciaRemiteAdmisionCorreoJuzgad', '0018Respuesta', '0019Respuesta', '0020ConstanciaSecretarial1', '0021SentencianiegaDerecho', '0022ConstanciaRemiteFallo', '0023Impugnacion', '0024Respuesta', '0025ConstanciaRemiteApelacion'] ['.pdf', '.pdf', '.pdf', '.pdf', '.pdf', '.pdf', '.pdf', '.pdf', '.pdf', '.pdf', '.pdf', '.pdf', '.pdf', '.pdf', '.pdf', '.pdf', '.pdf', '.pdf', '.pdf', '.pdf', '.pdf', '.pdf', '.pdf', '.pdf', '.pdf'] [1, 2, 3, 4, 5, 6, 7, 8, 9, 10, 11, 12, 13, 14, 15, 16, 17, 18, 19, 20, 21, 22, 23, 24, 25] True\n"
     ]
    }
   ],
   "source": [
    "nombresExtensiones=[]\n",
    "for x in range(len(nombres)):\n",
    "    if extensiones[x] != 'Carpeta':\n",
    "        nombresExtensiones.append(str(nombres[x])+str(extensiones[x]))\n",
    "    else:\n",
    "        nombresExtensiones.append(str(nombres[x]))\n",
    "numeraciones = list(range(len(nombres)+1))\n",
    "numeraciones.pop(0)\n",
    "if isOrderCorrect(files, nombresExtensiones):\n",
    "    ban = True\n",
    "print(nombresExtensiones, nombres, extensiones, numeraciones, ban)"
   ]
  }
 ],
 "metadata": {
  "interpreter": {
   "hash": "67ff2b08a60b3c8d3383ece141b44d84ac527aa0fb2b4d51a958291ceaf46288"
  },
  "kernelspec": {
   "display_name": "Python 3.9.6 64-bit",
   "language": "python",
   "name": "python3"
  },
  "language_info": {
   "codemirror_mode": {
    "name": "ipython",
    "version": 3
   },
   "file_extension": ".py",
   "mimetype": "text/x-python",
   "name": "python",
   "nbconvert_exporter": "python",
   "pygments_lexer": "ipython3",
   "version": "3.9.6"
  },
  "orig_nbformat": 4
 },
 "nbformat": 4,
 "nbformat_minor": 2
}
